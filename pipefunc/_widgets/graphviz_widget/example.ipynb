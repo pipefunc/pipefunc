{
 "cells": [
  {
   "cell_type": "code",
   "execution_count": null,
   "metadata": {},
   "outputs": [],
   "source": [
    "%load_ext autoreload\n",
    "%autoreload 2\n",
    "%env ANYWIDGET_HMR=1"
   ]
  },
  {
   "cell_type": "code",
   "execution_count": null,
   "metadata": {},
   "outputs": [],
   "source": [
    "from pipefunc import Pipeline, pipefunc\n",
    "\n",
    "\n",
    "@pipefunc(output_name=\"c\")\n",
    "def f(a, b):  # noqa: ANN202\n",
    "    return a + b\n",
    "\n",
    "\n",
    "@pipefunc(output_name=\"d\")\n",
    "def g(b, c, x=1):  # noqa: ANN202\n",
    "    return b * c * x\n",
    "\n",
    "\n",
    "@pipefunc(output_name=\"e\")\n",
    "def h(c, d, x=1):  # noqa: ANN202\n",
    "    return c * d * x\n",
    "\n",
    "\n",
    "pipeline = Pipeline(\n",
    "    [f, g, h],\n",
    "    debug=True,  # optionally print debug information\n",
    "    profile=True,  # optionally profile the pipeline\n",
    "    cache_type=\"hybrid\",  # optionally cache the pipeline\n",
    ")\n",
    "\n",
    "pipeline.visualize_graphviz_widget()"
   ]
  }
 ],
 "metadata": {
  "kernelspec": {
   "display_name": "pipefunc",
   "language": "python",
   "name": "python3"
  },
  "language_info": {
   "codemirror_mode": {
    "name": "ipython",
    "version": 3
   },
   "file_extension": ".py",
   "mimetype": "text/x-python",
   "name": "python",
   "nbconvert_exporter": "python",
   "pygments_lexer": "ipython3",
   "version": "3.13.0"
  }
 },
 "nbformat": 4,
 "nbformat_minor": 2
}
